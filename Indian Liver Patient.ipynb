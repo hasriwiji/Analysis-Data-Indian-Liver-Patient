{
 "cells": [
  {
   "cell_type": "markdown",
   "metadata": {},
   "source": [
    "# EAS Data Mining"
   ]
  },
  {
   "cell_type": "markdown",
   "metadata": {},
   "source": [
    "### Analisis Klasifikasi Pasien Liver di India Menggunakan Metode Regresi Logistik, Extra Trees, dan Random Forest"
   ]
  },
  {
   "cell_type": "markdown",
   "metadata": {},
   "source": [
    "Indah Maryana (06211740000014)"
   ]
  },
  {
   "cell_type": "markdown",
   "metadata": {},
   "source": [
    "Anita Syafira Irfan (06211740000024)"
   ]
  },
  {
   "cell_type": "markdown",
   "metadata": {},
   "source": [
    "Hasri Wiji Aqsari (06211740000042)"
   ]
  },
  {
   "cell_type": "markdown",
   "metadata": {},
   "source": [
    "\n",
    "## Preprocessing"
   ]
  },
  {
   "cell_type": "code",
   "execution_count": 2,
   "metadata": {},
   "outputs": [],
   "source": [
    "import numpy as np\n",
    "import pandas as pd"
   ]
  },
  {
   "cell_type": "code",
   "execution_count": 3,
   "metadata": {},
   "outputs": [
    {
     "data": {
      "text/html": [
       "<div>\n",
       "<style scoped>\n",
       "    .dataframe tbody tr th:only-of-type {\n",
       "        vertical-align: middle;\n",
       "    }\n",
       "\n",
       "    .dataframe tbody tr th {\n",
       "        vertical-align: top;\n",
       "    }\n",
       "\n",
       "    .dataframe thead th {\n",
       "        text-align: right;\n",
       "    }\n",
       "</style>\n",
       "<table border=\"1\" class=\"dataframe\">\n",
       "  <thead>\n",
       "    <tr style=\"text-align: right;\">\n",
       "      <th></th>\n",
       "      <th>Age</th>\n",
       "      <th>Gender</th>\n",
       "      <th>Total_Bilirubin</th>\n",
       "      <th>Direct_Bilirubin</th>\n",
       "      <th>Alkaline_Phosphotase</th>\n",
       "      <th>Alamine_Aminotransferase</th>\n",
       "      <th>Aspartate_Aminotransferase</th>\n",
       "      <th>Total_Protiens</th>\n",
       "      <th>Albumin</th>\n",
       "      <th>Albumin_and_Globulin_Ratio</th>\n",
       "      <th>Dataset</th>\n",
       "    </tr>\n",
       "  </thead>\n",
       "  <tbody>\n",
       "    <tr>\n",
       "      <td>0</td>\n",
       "      <td>65</td>\n",
       "      <td>Female</td>\n",
       "      <td>0.7</td>\n",
       "      <td>0.1</td>\n",
       "      <td>187</td>\n",
       "      <td>16</td>\n",
       "      <td>18</td>\n",
       "      <td>6.8</td>\n",
       "      <td>3.3</td>\n",
       "      <td>0.90</td>\n",
       "      <td>0</td>\n",
       "    </tr>\n",
       "    <tr>\n",
       "      <td>1</td>\n",
       "      <td>62</td>\n",
       "      <td>Male</td>\n",
       "      <td>10.9</td>\n",
       "      <td>5.5</td>\n",
       "      <td>699</td>\n",
       "      <td>64</td>\n",
       "      <td>100</td>\n",
       "      <td>7.5</td>\n",
       "      <td>3.2</td>\n",
       "      <td>0.74</td>\n",
       "      <td>0</td>\n",
       "    </tr>\n",
       "    <tr>\n",
       "      <td>2</td>\n",
       "      <td>62</td>\n",
       "      <td>Male</td>\n",
       "      <td>7.3</td>\n",
       "      <td>4.1</td>\n",
       "      <td>490</td>\n",
       "      <td>60</td>\n",
       "      <td>68</td>\n",
       "      <td>7.0</td>\n",
       "      <td>3.3</td>\n",
       "      <td>0.89</td>\n",
       "      <td>0</td>\n",
       "    </tr>\n",
       "    <tr>\n",
       "      <td>3</td>\n",
       "      <td>58</td>\n",
       "      <td>Male</td>\n",
       "      <td>1.0</td>\n",
       "      <td>0.4</td>\n",
       "      <td>182</td>\n",
       "      <td>14</td>\n",
       "      <td>20</td>\n",
       "      <td>6.8</td>\n",
       "      <td>3.4</td>\n",
       "      <td>1.00</td>\n",
       "      <td>0</td>\n",
       "    </tr>\n",
       "    <tr>\n",
       "      <td>4</td>\n",
       "      <td>72</td>\n",
       "      <td>Male</td>\n",
       "      <td>3.9</td>\n",
       "      <td>2.0</td>\n",
       "      <td>195</td>\n",
       "      <td>27</td>\n",
       "      <td>59</td>\n",
       "      <td>7.3</td>\n",
       "      <td>2.4</td>\n",
       "      <td>0.40</td>\n",
       "      <td>0</td>\n",
       "    </tr>\n",
       "  </tbody>\n",
       "</table>\n",
       "</div>"
      ],
      "text/plain": [
       "   Age  Gender  Total_Bilirubin  Direct_Bilirubin  Alkaline_Phosphotase  \\\n",
       "0   65  Female              0.7               0.1                   187   \n",
       "1   62    Male             10.9               5.5                   699   \n",
       "2   62    Male              7.3               4.1                   490   \n",
       "3   58    Male              1.0               0.4                   182   \n",
       "4   72    Male              3.9               2.0                   195   \n",
       "\n",
       "   Alamine_Aminotransferase  Aspartate_Aminotransferase  Total_Protiens  \\\n",
       "0                        16                          18             6.8   \n",
       "1                        64                         100             7.5   \n",
       "2                        60                          68             7.0   \n",
       "3                        14                          20             6.8   \n",
       "4                        27                          59             7.3   \n",
       "\n",
       "   Albumin  Albumin_and_Globulin_Ratio  Dataset  \n",
       "0      3.3                        0.90        0  \n",
       "1      3.2                        0.74        0  \n",
       "2      3.3                        0.89        0  \n",
       "3      3.4                        1.00        0  \n",
       "4      2.4                        0.40        0  "
      ]
     },
     "execution_count": 3,
     "metadata": {},
     "output_type": "execute_result"
    }
   ],
   "source": [
    "#Read data\n",
    "data = pd.read_csv(\"D:\\Semester 6\\data mining\\indian liver patient record.csv\", sep=\";\")\n",
    "data.head(5)"
   ]
  },
  {
   "cell_type": "code",
   "execution_count": 4,
   "metadata": {
    "scrolled": true
   },
   "outputs": [
    {
     "name": "stdout",
     "output_type": "stream",
     "text": [
      "<class 'pandas.core.frame.DataFrame'>\n",
      "RangeIndex: 583 entries, 0 to 582\n",
      "Data columns (total 11 columns):\n",
      "Age                           583 non-null int64\n",
      "Gender                        583 non-null object\n",
      "Total_Bilirubin               583 non-null float64\n",
      "Direct_Bilirubin              583 non-null float64\n",
      "Alkaline_Phosphotase          583 non-null int64\n",
      "Alamine_Aminotransferase      583 non-null int64\n",
      "Aspartate_Aminotransferase    583 non-null int64\n",
      "Total_Protiens                583 non-null float64\n",
      "Albumin                       583 non-null float64\n",
      "Albumin_and_Globulin_Ratio    579 non-null float64\n",
      "Dataset                       583 non-null int64\n",
      "dtypes: float64(5), int64(5), object(1)\n",
      "memory usage: 50.2+ KB\n"
     ]
    }
   ],
   "source": [
    "data.info()"
   ]
  },
  {
   "cell_type": "code",
   "execution_count": 5,
   "metadata": {},
   "outputs": [
    {
     "name": "stderr",
     "output_type": "stream",
     "text": [
      "E:\\Anaconda fix\\lib\\site-packages\\numpy\\lib\\histograms.py:824: RuntimeWarning: invalid value encountered in greater_equal\n",
      "  keep = (tmp_a >= first_edge)\n",
      "E:\\Anaconda fix\\lib\\site-packages\\numpy\\lib\\histograms.py:825: RuntimeWarning: invalid value encountered in less_equal\n",
      "  keep &= (tmp_a <= last_edge)\n",
      "E:\\Anaconda fix\\lib\\site-packages\\statsmodels\\nonparametric\\kde.py:447: RuntimeWarning: invalid value encountered in greater\n",
      "  X = X[np.logical_and(X > clip[0], X < clip[1])] # won't work for two columns.\n",
      "E:\\Anaconda fix\\lib\\site-packages\\statsmodels\\nonparametric\\kde.py:447: RuntimeWarning: invalid value encountered in less\n",
      "  X = X[np.logical_and(X > clip[0], X < clip[1])] # won't work for two columns.\n"
     ]
    },
    {
     "data": {
      "text/plain": [
       "<matplotlib.lines.Line2D at 0x1a9ca63dec8>"
      ]
     },
     "execution_count": 5,
     "metadata": {},
     "output_type": "execute_result"
    }
   ],
   "source": [
    "import matplotlib.pyplot as plt\n",
    "import seaborn as sns\n",
    "sns.distplot(data['Albumin_and_Globulin_Ratio'], hist=True, kde=True, \n",
    "             bins=int(180/5), color = 'grey', \n",
    "             hist_kws={'edgecolor':'black'},\n",
    "             kde_kws={'linewidth': 4})\n",
    "plt.axvline(data['Albumin_and_Globulin_Ratio'].mean(),color='blue') \n",
    "plt.axvline(data['Albumin_and_Globulin_Ratio'].median(),color='red')"
   ]
  },
  {
   "cell_type": "code",
   "execution_count": 6,
   "metadata": {},
   "outputs": [
    {
     "name": "stdout",
     "output_type": "stream",
     "text": [
      "<class 'pandas.core.frame.DataFrame'>\n",
      "RangeIndex: 583 entries, 0 to 582\n",
      "Data columns (total 11 columns):\n",
      "Age                           583 non-null int64\n",
      "Gender                        583 non-null object\n",
      "Total_Bilirubin               583 non-null float64\n",
      "Direct_Bilirubin              583 non-null float64\n",
      "Alkaline_Phosphotase          583 non-null int64\n",
      "Alamine_Aminotransferase      583 non-null int64\n",
      "Aspartate_Aminotransferase    583 non-null int64\n",
      "Total_Protiens                583 non-null float64\n",
      "Albumin                       583 non-null float64\n",
      "Albumin_and_Globulin_Ratio    583 non-null float64\n",
      "Dataset                       583 non-null int64\n",
      "dtypes: float64(5), int64(5), object(1)\n",
      "memory usage: 50.2+ KB\n"
     ]
    }
   ],
   "source": [
    "#Mengisi Missing Value dengan Mean\n",
    "data['Albumin_and_Globulin_Ratio'] = data['Albumin_and_Globulin_Ratio'].fillna(data['Albumin_and_Globulin_Ratio'].mean())\n",
    "data.info()"
   ]
  },
  {
   "cell_type": "code",
   "execution_count": 7,
   "metadata": {
    "scrolled": false
   },
   "outputs": [
    {
     "data": {
      "text/plain": [
       "Age                           0\n",
       "Gender                        0\n",
       "Total_Bilirubin               0\n",
       "Direct_Bilirubin              0\n",
       "Alkaline_Phosphotase          0\n",
       "Alamine_Aminotransferase      0\n",
       "Aspartate_Aminotransferase    0\n",
       "Total_Protiens                0\n",
       "Albumin                       0\n",
       "Albumin_and_Globulin_Ratio    0\n",
       "Dataset                       0\n",
       "dtype: int64"
      ]
     },
     "execution_count": 7,
     "metadata": {},
     "output_type": "execute_result"
    }
   ],
   "source": [
    "#Cek Missing Value\n",
    "data.isnull().sum()"
   ]
  },
  {
   "cell_type": "code",
   "execution_count": 8,
   "metadata": {},
   "outputs": [],
   "source": [
    "#Subset hanya diambil yang sakit liver\n",
    "data2=data[data[\"Dataset\"]==0]"
   ]
  },
  {
   "cell_type": "code",
   "execution_count": 9,
   "metadata": {},
   "outputs": [],
   "source": [
    "#Subset hanya diambil yang tidak sakit liver\n",
    "data3=data[data[\"Dataset\"]==1]"
   ]
  },
  {
   "cell_type": "code",
   "execution_count": 10,
   "metadata": {},
   "outputs": [
    {
     "data": {
      "text/html": [
       "<div>\n",
       "<style scoped>\n",
       "    .dataframe tbody tr th:only-of-type {\n",
       "        vertical-align: middle;\n",
       "    }\n",
       "\n",
       "    .dataframe tbody tr th {\n",
       "        vertical-align: top;\n",
       "    }\n",
       "\n",
       "    .dataframe thead th {\n",
       "        text-align: right;\n",
       "    }\n",
       "</style>\n",
       "<table border=\"1\" class=\"dataframe\">\n",
       "  <thead>\n",
       "    <tr style=\"text-align: right;\">\n",
       "      <th></th>\n",
       "      <th>Age</th>\n",
       "      <th>Total_Bilirubin</th>\n",
       "      <th>Direct_Bilirubin</th>\n",
       "      <th>Alkaline_Phosphotase</th>\n",
       "      <th>Alamine_Aminotransferase</th>\n",
       "      <th>Aspartate_Aminotransferase</th>\n",
       "      <th>Total_Protiens</th>\n",
       "      <th>Albumin</th>\n",
       "      <th>Albumin_and_Globulin_Ratio</th>\n",
       "      <th>Dataset</th>\n",
       "    </tr>\n",
       "  </thead>\n",
       "  <tbody>\n",
       "    <tr>\n",
       "      <td>count</td>\n",
       "      <td>416.00</td>\n",
       "      <td>416.00</td>\n",
       "      <td>416.00</td>\n",
       "      <td>416.00</td>\n",
       "      <td>416.00</td>\n",
       "      <td>416.00</td>\n",
       "      <td>416.00</td>\n",
       "      <td>416.00</td>\n",
       "      <td>416.00</td>\n",
       "      <td>416.0</td>\n",
       "    </tr>\n",
       "    <tr>\n",
       "      <td>mean</td>\n",
       "      <td>46.15</td>\n",
       "      <td>4.16</td>\n",
       "      <td>1.92</td>\n",
       "      <td>319.01</td>\n",
       "      <td>99.61</td>\n",
       "      <td>137.70</td>\n",
       "      <td>6.46</td>\n",
       "      <td>3.06</td>\n",
       "      <td>0.91</td>\n",
       "      <td>0.0</td>\n",
       "    </tr>\n",
       "    <tr>\n",
       "      <td>std</td>\n",
       "      <td>15.65</td>\n",
       "      <td>7.14</td>\n",
       "      <td>3.21</td>\n",
       "      <td>268.31</td>\n",
       "      <td>212.77</td>\n",
       "      <td>337.39</td>\n",
       "      <td>1.09</td>\n",
       "      <td>0.79</td>\n",
       "      <td>0.33</td>\n",
       "      <td>0.0</td>\n",
       "    </tr>\n",
       "    <tr>\n",
       "      <td>min</td>\n",
       "      <td>7.00</td>\n",
       "      <td>0.40</td>\n",
       "      <td>0.10</td>\n",
       "      <td>63.00</td>\n",
       "      <td>12.00</td>\n",
       "      <td>11.00</td>\n",
       "      <td>2.70</td>\n",
       "      <td>0.90</td>\n",
       "      <td>0.30</td>\n",
       "      <td>0.0</td>\n",
       "    </tr>\n",
       "    <tr>\n",
       "      <td>25%</td>\n",
       "      <td>34.00</td>\n",
       "      <td>0.80</td>\n",
       "      <td>0.20</td>\n",
       "      <td>186.00</td>\n",
       "      <td>25.00</td>\n",
       "      <td>29.75</td>\n",
       "      <td>5.70</td>\n",
       "      <td>2.50</td>\n",
       "      <td>0.70</td>\n",
       "      <td>0.0</td>\n",
       "    </tr>\n",
       "    <tr>\n",
       "      <td>50%</td>\n",
       "      <td>46.00</td>\n",
       "      <td>1.40</td>\n",
       "      <td>0.50</td>\n",
       "      <td>229.00</td>\n",
       "      <td>41.00</td>\n",
       "      <td>52.50</td>\n",
       "      <td>6.55</td>\n",
       "      <td>3.00</td>\n",
       "      <td>0.90</td>\n",
       "      <td>0.0</td>\n",
       "    </tr>\n",
       "    <tr>\n",
       "      <td>75%</td>\n",
       "      <td>58.00</td>\n",
       "      <td>3.62</td>\n",
       "      <td>1.80</td>\n",
       "      <td>315.25</td>\n",
       "      <td>76.50</td>\n",
       "      <td>108.75</td>\n",
       "      <td>7.20</td>\n",
       "      <td>3.62</td>\n",
       "      <td>1.10</td>\n",
       "      <td>0.0</td>\n",
       "    </tr>\n",
       "    <tr>\n",
       "      <td>max</td>\n",
       "      <td>90.00</td>\n",
       "      <td>75.00</td>\n",
       "      <td>19.70</td>\n",
       "      <td>2110.00</td>\n",
       "      <td>2000.00</td>\n",
       "      <td>4929.00</td>\n",
       "      <td>9.60</td>\n",
       "      <td>5.50</td>\n",
       "      <td>2.80</td>\n",
       "      <td>0.0</td>\n",
       "    </tr>\n",
       "  </tbody>\n",
       "</table>\n",
       "</div>"
      ],
      "text/plain": [
       "          Age  Total_Bilirubin  Direct_Bilirubin  Alkaline_Phosphotase  \\\n",
       "count  416.00           416.00            416.00                416.00   \n",
       "mean    46.15             4.16              1.92                319.01   \n",
       "std     15.65             7.14              3.21                268.31   \n",
       "min      7.00             0.40              0.10                 63.00   \n",
       "25%     34.00             0.80              0.20                186.00   \n",
       "50%     46.00             1.40              0.50                229.00   \n",
       "75%     58.00             3.62              1.80                315.25   \n",
       "max     90.00            75.00             19.70               2110.00   \n",
       "\n",
       "       Alamine_Aminotransferase  Aspartate_Aminotransferase  Total_Protiens  \\\n",
       "count                    416.00                      416.00          416.00   \n",
       "mean                      99.61                      137.70            6.46   \n",
       "std                      212.77                      337.39            1.09   \n",
       "min                       12.00                       11.00            2.70   \n",
       "25%                       25.00                       29.75            5.70   \n",
       "50%                       41.00                       52.50            6.55   \n",
       "75%                       76.50                      108.75            7.20   \n",
       "max                     2000.00                     4929.00            9.60   \n",
       "\n",
       "       Albumin  Albumin_and_Globulin_Ratio  Dataset  \n",
       "count   416.00                      416.00    416.0  \n",
       "mean      3.06                        0.91      0.0  \n",
       "std       0.79                        0.33      0.0  \n",
       "min       0.90                        0.30      0.0  \n",
       "25%       2.50                        0.70      0.0  \n",
       "50%       3.00                        0.90      0.0  \n",
       "75%       3.62                        1.10      0.0  \n",
       "max       5.50                        2.80      0.0  "
      ]
     },
     "execution_count": 10,
     "metadata": {},
     "output_type": "execute_result"
    }
   ],
   "source": [
    "#STATISTIKA DESKRIPTIF\n",
    "data2.describe()\n",
    "round(data2.describe(),2)"
   ]
  },
  {
   "cell_type": "markdown",
   "metadata": {},
   "source": [
    "## Visualisasi"
   ]
  },
  {
   "cell_type": "code",
   "execution_count": 11,
   "metadata": {},
   "outputs": [
    {
     "data": {
      "image/png": "[encoded data removed]",
      "text/plain": [
       "<Figure size 432x288 with 1 Axes>"
      ]
     },
     "metadata": {},
     "output_type": "display_data"
    }
   ],
   "source": [
    "# Perbandingan cowok cewek yang sakit liver\n",
    "\n",
    "%matplotlib inline\n",
    "\n",
    "nctype = [data2.Gender[data2.Gender=='Male'].count(),data2.Gender[data2.Gender=='Female'].count()]\n",
    "ctype = ['Male','Female']\n",
    "plt.pie(nctype,labels=ctype,startangle=90,colors=['#bca5d4','#a5c79d'], autopct ='%.1f%%')\n",
    "plt.show()"
   ]
  },
  {
   "cell_type": "code",
   "execution_count": 12,
   "metadata": {
    "scrolled": true
   },
   "outputs": [
    {
     "data": {
      "image/png": "[encoded data removed]",
      "text/plain": [
       "<Figure size 432x288 with 1 Axes>"
      ]
     },
     "metadata": {},
     "output_type": "display_data"
    }
   ],
   "source": [
    "# Perbandingan pasien yang sakit liver vs tidak\n",
    "\n",
    "%matplotlib inline\n",
    "\n",
    "nctype = [data.Dataset[data.Dataset==0].count(),data.Dataset[data.Dataset==1].count()]\n",
    "ctype = ['Liver','No']\n",
    "plt.pie(nctype,labels=ctype,startangle=90,colors=['#bca5d4','#a5c79d'], autopct ='%.1f%%')\n",
    "plt.show()"
   ]
  },
  {
   "cell_type": "code",
   "execution_count": 13,
   "metadata": {},
   "outputs": [
    {
     "data": {
      "image/png": "[encoded data removed]",
      "text/plain": [
       "<Figure size 936x936 with 4 Axes>"
      ]
     },
     "metadata": {},
     "output_type": "display_data"
    }
   ],
   "source": [
    "#Box plot untuk lihat beberapa variabel yg tinggi jika liver\n",
    "\n",
    "sns.set_style ('darkgrid')\n",
    "f, axes = plt.subplots(2,2, figsize = (13,13))\n",
    "\n",
    "#plot [0,0]\n",
    "sns.boxplot(data=data, x = 'Dataset', y = np.log10(data['Total_Bilirubin']), ax=axes[0,0])\n",
    "axes[0,0].set_xlabel=['Liver','No']\n",
    "axes[0,0].set_ylabel=('Total_Bilirubin')\n",
    "axes[0,0].set_title=('Liver vs Total_Bilirubin')\n",
    "\n",
    "#plot [0,1]\n",
    "sns.boxplot(data=data, x = 'Dataset', y = np.log10(data['Alkaline_Phosphotase']), ax=axes[0,1])\n",
    "axes[0,0].set_xlabel=['Liver','No']\n",
    "axes[0,0].set_ylabel=('Alkaline_Phosphotase')\n",
    "axes[0,0].set_title=('Liver vs Alkaline_Phosphotase')\n",
    "\n",
    "#plot [1,0]\n",
    "sns.boxplot(data=data, x = 'Dataset', y = np.log10(data['Alamine_Aminotransferase']), ax=axes[1,0])\n",
    "axes[0,0].set_xlabel=['Liver','No']\n",
    "axes[0,0].set_ylabel=('Alamine_Aminotransferase')\n",
    "axes[0,0].set_title=('Liver vs Alamine_Aminotransferase')\n",
    "\n",
    "#plot [1,1]\n",
    "sns.boxplot(data=data, x = 'Dataset', y = np.log10(data['Aspartate_Aminotransferase']), ax=axes[1,1])\n",
    "axes[0,0].set_xlabel=['Liver','No']\n",
    "axes[0,0].set_ylabel=('Aspartate_Aminotransferase')\n",
    "axes[0,0].set_title=('Liver vs Aspartate_Aminotransferase')"
   ]
  },
  {
   "cell_type": "code",
   "execution_count": 14,
   "metadata": {
    "scrolled": true
   },
   "outputs": [
    {
     "data": {
      "image/png": "[encoded data removed]",
      "text/plain": [
       "<Figure size 936x936 with 4 Axes>"
      ]
     },
     "metadata": {},
     "output_type": "display_data"
    }
   ],
   "source": [
    "sns.set_style ('darkgrid')\n",
    "f, axes = plt.subplots(2,2, figsize = (13,13))\n",
    "\n",
    "#plot [0,0]\n",
    "sns.boxplot(data=data, x = 'Dataset', y = np.log10(data['Total_Protiens']), ax=axes[0,0])\n",
    "axes[0,0].set_xlabel=['Liver','No']\n",
    "axes[0,0].set_ylabel=('Total_Protiens')\n",
    "axes[0,0].set_title=('Liver vs Total_Protiens')\n",
    "\n",
    "#plot [0,1]\n",
    "sns.boxplot(data=data, x = 'Dataset', y = np.log10(data['Albumin']), ax=axes[0,1])\n",
    "axes[0,0].set_xlabel=['Liver','No']\n",
    "axes[0,0].set_ylabel=('Albumin')\n",
    "axes[0,0].set_title=('Liver vs Albumin')\n",
    "\n",
    "#plot [1,0]\n",
    "sns.boxplot(data=data, x = 'Dataset', y = np.log10(data['Albumin_and_Globulin_Ratio']), ax=axes[1,0])\n",
    "axes[0,0].set_xlabel=['Liver','No']\n",
    "axes[0,0].set_ylabel=('Albumin_and_Globulin_Ratio')\n",
    "axes[0,0].set_title=('Liver vs Albumin_and_Globulin_Ratio')\n",
    "\n",
    "#plot [1,1]\n",
    "sns.boxplot(data=data, x = 'Dataset', y = np.log10(data['Age']), ax=axes[1,1])\n",
    "axes[0,0].set_xlabel=['Liver','No']\n",
    "axes[0,0].set_ylabel=('Age')\n",
    "axes[0,0].set_title=('Liver vs Age')"
   ]
  },
  {
   "cell_type": "markdown",
   "metadata": {},
   "source": [
    "## Feature Selection"
   ]
  },
  {
   "cell_type": "code",
   "execution_count": 15,
   "metadata": {},
   "outputs": [
    {
     "name": "stderr",
     "output_type": "stream",
     "text": [
      "E:\\Anaconda fix\\lib\\site-packages\\pandas\\core\\frame.py:4102: SettingWithCopyWarning: \n",
      "A value is trying to be set on a copy of a slice from a DataFrame\n",
      "\n",
      "See the caveats in the documentation: http://pandas.pydata.org/pandas-docs/stable/user_guide/indexing.html#returning-a-view-versus-a-copy\n",
      "  errors=errors,\n"
     ]
    },
    {
     "data": {
      "text/html": [
       "<div>\n",
       "<style scoped>\n",
       "    .dataframe tbody tr th:only-of-type {\n",
       "        vertical-align: middle;\n",
       "    }\n",
       "\n",
       "    .dataframe tbody tr th {\n",
       "        vertical-align: top;\n",
       "    }\n",
       "\n",
       "    .dataframe thead th {\n",
       "        text-align: right;\n",
       "    }\n",
       "</style>\n",
       "<table border=\"1\" class=\"dataframe\">\n",
       "  <thead>\n",
       "    <tr style=\"text-align: right;\">\n",
       "      <th></th>\n",
       "      <th>Age</th>\n",
       "      <th>Total_Bilirubin</th>\n",
       "      <th>Direct_Bilirubin</th>\n",
       "      <th>Alkaline_Phosphotase</th>\n",
       "      <th>Alamine_Aminotransferase</th>\n",
       "      <th>Aspartate_Aminotransferase</th>\n",
       "      <th>Total_Protiens</th>\n",
       "      <th>Albumin</th>\n",
       "      <th>Albumin_and_Globulin_Ratio</th>\n",
       "    </tr>\n",
       "  </thead>\n",
       "  <tbody>\n",
       "    <tr>\n",
       "      <td>0</td>\n",
       "      <td>65</td>\n",
       "      <td>0.7</td>\n",
       "      <td>0.1</td>\n",
       "      <td>187</td>\n",
       "      <td>16</td>\n",
       "      <td>18</td>\n",
       "      <td>6.8</td>\n",
       "      <td>3.3</td>\n",
       "      <td>0.90</td>\n",
       "    </tr>\n",
       "    <tr>\n",
       "      <td>1</td>\n",
       "      <td>62</td>\n",
       "      <td>10.9</td>\n",
       "      <td>5.5</td>\n",
       "      <td>699</td>\n",
       "      <td>64</td>\n",
       "      <td>100</td>\n",
       "      <td>7.5</td>\n",
       "      <td>3.2</td>\n",
       "      <td>0.74</td>\n",
       "    </tr>\n",
       "    <tr>\n",
       "      <td>2</td>\n",
       "      <td>62</td>\n",
       "      <td>7.3</td>\n",
       "      <td>4.1</td>\n",
       "      <td>490</td>\n",
       "      <td>60</td>\n",
       "      <td>68</td>\n",
       "      <td>7.0</td>\n",
       "      <td>3.3</td>\n",
       "      <td>0.89</td>\n",
       "    </tr>\n",
       "  </tbody>\n",
       "</table>\n",
       "</div>"
      ],
      "text/plain": [
       "   Age  Total_Bilirubin  Direct_Bilirubin  Alkaline_Phosphotase  \\\n",
       "0   65              0.7               0.1                   187   \n",
       "1   62             10.9               5.5                   699   \n",
       "2   62              7.3               4.1                   490   \n",
       "\n",
       "   Alamine_Aminotransferase  Aspartate_Aminotransferase  Total_Protiens  \\\n",
       "0                        16                          18             6.8   \n",
       "1                        64                         100             7.5   \n",
       "2                        60                          68             7.0   \n",
       "\n",
       "   Albumin  Albumin_and_Globulin_Ratio  \n",
       "0      3.3                        0.90  \n",
       "1      3.2                        0.74  \n",
       "2      3.3                        0.89  "
      ]
     },
     "execution_count": 15,
     "metadata": {},
     "output_type": "execute_result"
    }
   ],
   "source": [
    "# ambil variabel numerik aja + buang variabel dataset\n",
    "\n",
    "new_data = data.select_dtypes([np.number])\n",
    "new_data.drop(['Dataset'],axis=1,inplace=True)\n",
    "new_data.head(3)"
   ]
  },
  {
   "cell_type": "code",
   "execution_count": 16,
   "metadata": {},
   "outputs": [
    {
     "data": {
      "text/plain": [
       "[]"
      ]
     },
     "execution_count": 16,
     "metadata": {},
     "output_type": "execute_result"
    }
   ],
   "source": [
    "# feature selection - correlation thresholds: menghilangkan salah satu variabel yang punya korelasi tinggi (set 0.9)\n",
    "\n",
    "def find_correlation(df, thresh=0.9):    \n",
    "    corrMatrix = df.corr()\n",
    "    corrMatrix.loc[:,:] =  np.tril(corrMatrix, k=-1)\n",
    "    already_in = set()\n",
    "    result = []\n",
    "    for col in corrMatrix:\n",
    "        perfect_corr = corrMatrix[col][corrMatrix[col] > thresh].index.tolist()\n",
    "        if perfect_corr and col not in already_in:\n",
    "            already_in.update(set(perfect_corr))\n",
    "            perfect_corr.append(col)\n",
    "            result.append(perfect_corr)\n",
    "    select_nested = [f[1:] for f in result]\n",
    "    select_flat = [i for j in select_nested for i in j]\n",
    "    return select_flat\n",
    "\n",
    "find_correlation(new_data,thresh=0.9)"
   ]
  },
  {
   "cell_type": "code",
   "execution_count": 17,
   "metadata": {},
   "outputs": [
    {
     "data": {
      "text/html": [
       "<div>\n",
       "<style scoped>\n",
       "    .dataframe tbody tr th:only-of-type {\n",
       "        vertical-align: middle;\n",
       "    }\n",
       "\n",
       "    .dataframe tbody tr th {\n",
       "        vertical-align: top;\n",
       "    }\n",
       "\n",
       "    .dataframe thead th {\n",
       "        text-align: right;\n",
       "    }\n",
       "</style>\n",
       "<table border=\"1\" class=\"dataframe\">\n",
       "  <thead>\n",
       "    <tr style=\"text-align: right;\">\n",
       "      <th></th>\n",
       "      <th>0</th>\n",
       "      <th>1</th>\n",
       "      <th>2</th>\n",
       "      <th>3</th>\n",
       "      <th>4</th>\n",
       "      <th>5</th>\n",
       "      <th>6</th>\n",
       "      <th>7</th>\n",
       "      <th>8</th>\n",
       "    </tr>\n",
       "  </thead>\n",
       "  <tbody>\n",
       "    <tr>\n",
       "      <td>0</td>\n",
       "      <td>65.0</td>\n",
       "      <td>0.7</td>\n",
       "      <td>0.1</td>\n",
       "      <td>187.0</td>\n",
       "      <td>16.0</td>\n",
       "      <td>18.0</td>\n",
       "      <td>6.8</td>\n",
       "      <td>3.3</td>\n",
       "      <td>0.90</td>\n",
       "    </tr>\n",
       "    <tr>\n",
       "      <td>1</td>\n",
       "      <td>62.0</td>\n",
       "      <td>10.9</td>\n",
       "      <td>5.5</td>\n",
       "      <td>699.0</td>\n",
       "      <td>64.0</td>\n",
       "      <td>100.0</td>\n",
       "      <td>7.5</td>\n",
       "      <td>3.2</td>\n",
       "      <td>0.74</td>\n",
       "    </tr>\n",
       "    <tr>\n",
       "      <td>2</td>\n",
       "      <td>62.0</td>\n",
       "      <td>7.3</td>\n",
       "      <td>4.1</td>\n",
       "      <td>490.0</td>\n",
       "      <td>60.0</td>\n",
       "      <td>68.0</td>\n",
       "      <td>7.0</td>\n",
       "      <td>3.3</td>\n",
       "      <td>0.89</td>\n",
       "    </tr>\n",
       "    <tr>\n",
       "      <td>3</td>\n",
       "      <td>58.0</td>\n",
       "      <td>1.0</td>\n",
       "      <td>0.4</td>\n",
       "      <td>182.0</td>\n",
       "      <td>14.0</td>\n",
       "      <td>20.0</td>\n",
       "      <td>6.8</td>\n",
       "      <td>3.4</td>\n",
       "      <td>1.00</td>\n",
       "    </tr>\n",
       "    <tr>\n",
       "      <td>4</td>\n",
       "      <td>72.0</td>\n",
       "      <td>3.9</td>\n",
       "      <td>2.0</td>\n",
       "      <td>195.0</td>\n",
       "      <td>27.0</td>\n",
       "      <td>59.0</td>\n",
       "      <td>7.3</td>\n",
       "      <td>2.4</td>\n",
       "      <td>0.40</td>\n",
       "    </tr>\n",
       "  </tbody>\n",
       "</table>\n",
       "</div>"
      ],
      "text/plain": [
       "      0     1    2      3     4      5    6    7     8\n",
       "0  65.0   0.7  0.1  187.0  16.0   18.0  6.8  3.3  0.90\n",
       "1  62.0  10.9  5.5  699.0  64.0  100.0  7.5  3.2  0.74\n",
       "2  62.0   7.3  4.1  490.0  60.0   68.0  7.0  3.3  0.89\n",
       "3  58.0   1.0  0.4  182.0  14.0   20.0  6.8  3.4  1.00\n",
       "4  72.0   3.9  2.0  195.0  27.0   59.0  7.3  2.4  0.40"
      ]
     },
     "execution_count": 17,
     "metadata": {},
     "output_type": "execute_result"
    }
   ],
   "source": [
    "# feature selection - variance thresholds: menghilangkan variabel yang varians kecil (set 0.1)\n",
    "from sklearn import datasets\n",
    "from sklearn.feature_selection import VarianceThreshold\n",
    "thresholder = VarianceThreshold(0.1)\n",
    "data_hv = thresholder.fit_transform(new_data)\n",
    "data_hv_df = pd.DataFrame(data_hv)\n",
    "data_hv_df.head(5)"
   ]
  },
  {
   "cell_type": "markdown",
   "metadata": {},
   "source": [
    "## Klasifikasi"
   ]
  },
  {
   "cell_type": "code",
   "execution_count": 18,
   "metadata": {},
   "outputs": [],
   "source": [
    "X = data.drop(['Gender','Dataset'], axis=1)\n",
    "y = data['Dataset']"
   ]
  },
  {
   "cell_type": "code",
   "execution_count": 19,
   "metadata": {
    "scrolled": true
   },
   "outputs": [],
   "source": [
    "from sklearn.linear_model import LogisticRegression\n",
    "from sklearn.ensemble import ExtraTreesClassifier\n",
    "from sklearn.ensemble import RandomForestClassifier\n",
    "from sklearn import model_selection\n",
    "from sklearn.model_selection import train_test_split\n",
    "from sklearn.metrics import classification_report, confusion_matrix, roc_auc_score, roc_curve\n",
    "from imblearn.metrics import specificity_score, sensitivity_score"
   ]
  },
  {
   "cell_type": "markdown",
   "metadata": {},
   "source": [
    "### Regresi Logistik"
   ]
  },
  {
   "cell_type": "code",
   "execution_count": 26,
   "metadata": {},
   "outputs": [
    {
     "name": "stderr",
     "output_type": "stream",
     "text": [
      "E:\\Anaconda fix\\lib\\site-packages\\sklearn\\linear_model\\_logistic.py:764: ConvergenceWarning: lbfgs failed to converge (status=1):\n",
      "STOP: TOTAL NO. of ITERATIONS REACHED LIMIT.\n",
      "\n",
      "Increase the number of iterations (max_iter) or scale the data as shown in:\n",
      "    https://scikit-learn.org/stable/modules/preprocessing.html\n",
      "Please also refer to the documentation for alternative solver options:\n",
      "    https://scikit-learn.org/stable/modules/linear_model.html#logistic-regression\n",
      "  extra_warning_msg=_LOGISTIC_SOLVER_CONVERGENCE_MSG)\n"
     ]
    },
    {
     "name": "stdout",
     "output_type": "stream",
     "text": [
      "Accuracy: 77.71%\n",
      "\n",
      "Confusion Matrix : \n",
      "[[124   5]\n",
      " [ 34  12]]\n",
      "\n",
      "Sensitivity : 78.48%\n",
      "\n",
      "Specificity : 70.59%\n",
      "\n",
      "F-Score : 79.23%\n",
      "\n",
      "AUC : 61.11%\n"
     ]
    },
    {
     "data": {
      "image/png": "[encoded data removed]",
      "text/plain": [
       "<Figure size 432x288 with 1 Axes>"
      ]
     },
     "metadata": {},
     "output_type": "display_data"
    }
   ],
   "source": [
    "# Holdout Repeated\n",
    "for i in range (0,10):\n",
    "    X_train, X_test, Y_train, Y_test = train_test_split(X, y, test_size=0.30, random_state = 52)\n",
    "logreg = LogisticRegression()\n",
    "logreg.fit(X_train, Y_train)\n",
    "y_train_hat = logreg.predict(X_train)\n",
    "y_test_hat = logreg.predict(X_test)\n",
    "y_test_quant = logreg.predict_proba(X_test)[:,1]\n",
    "result = logreg.score(X_test, Y_test)\n",
    "print(\"Accuracy: %.2f%%\" % (result*100.0))\n",
    "\n",
    "cm = confusion_matrix(Y_test, y_test_hat)\n",
    "print('\\nConfusion Matrix : \\n'+ str(cm))\n",
    "total=cm[0,0]+cm[1,1]+cm[0,1]+cm[1,0]\n",
    "sensitivity = cm[0,0]/(cm[0,0]+cm[1,0])\n",
    "print(\"\\nSensitivity : %.2f%%\" % (sensitivity*100.0))\n",
    "specificity = cm[1,1]/(cm[0,1]+cm[1,1])\n",
    "print(\"\\nSpecificity : %.2f%%\" % (specificity*100.0))\n",
    "fscore = 2*precision*sensitivity/(precision+sensitivity)\n",
    "print(\"\\nF-Score : %.2f%%\" % (fscore*100.0))\n",
    "logreg_auc = roc_auc_score(Y_test, y_test_hat)\n",
    "print(\"\\nAUC : %.2f%%\" % (logreg_auc*100.0))\n",
    "\n",
    "fpr, tpr, thresholds = roc_curve(Y_test,y_test_hat)\n",
    "fig, ax = plt.subplots()\n",
    "ax.plot(fpr, tpr)\n",
    "ax.plot ([0,1], [0,1], transform=ax.transAxes, ls=\"--\", c=\".3\")\n",
    "plt.xlim([0.0, 1.0])\n",
    "plt.ylim([0.0, 1.0])\n",
    "plt.plot(fpr, tpr, linestyle = '-', label = \"Logistic Regression (AUC = {:.3f})\".format(logreg_auc), color = \"r\")\n",
    "plt.plot([0,1], [0,1], 'k--', label = 'Random: 0.5')\n",
    "plt.xlabel('False positive rate')\n",
    "plt.ylabel('True positive rate')\n",
    "plt.title('ROC Curve')\n",
    "plt.legend(loc='best')\n",
    "#plt.savefig('roc_results_ratios.png')\n",
    "plt.show()"
   ]
  },
  {
   "cell_type": "code",
   "execution_count": 28,
   "metadata": {},
   "outputs": [
    {
     "name": "stderr",
     "output_type": "stream",
     "text": [
      "E:\\Anaconda fix\\lib\\site-packages\\sklearn\\model_selection\\_split.py:297: FutureWarning: Setting a random_state has no effect since shuffle is False. This will raise an error in 0.24. You should leave random_state to its default (None), or set shuffle=True.\n",
      "  FutureWarning\n",
      "E:\\Anaconda fix\\lib\\site-packages\\sklearn\\linear_model\\_logistic.py:764: ConvergenceWarning: lbfgs failed to converge (status=1):\n",
      "STOP: TOTAL NO. of ITERATIONS REACHED LIMIT.\n",
      "\n",
      "Increase the number of iterations (max_iter) or scale the data as shown in:\n",
      "    https://scikit-learn.org/stable/modules/preprocessing.html\n",
      "Please also refer to the documentation for alternative solver options:\n",
      "    https://scikit-learn.org/stable/modules/linear_model.html#logistic-regression\n",
      "  extra_warning_msg=_LOGISTIC_SOLVER_CONVERGENCE_MSG)\n"
     ]
    },
    {
     "name": "stdout",
     "output_type": "stream",
     "text": [
      "Accuracy: 75.86%\n",
      "\n",
      "Confusion Matrix : \n",
      "[[41  0]\n",
      " [14  3]]\n",
      "\n",
      "Sensitivity : 74.55%\n",
      "\n",
      "Specificity : 100.00%\n",
      "\n",
      "F-Score : 77.18%\n",
      "\n",
      "AUC : 58.82%\n"
     ]
    },
    {
     "data": {
      "image/png": "[encoded data removed]",
      "text/plain": [
       "<Figure size 432x288 with 1 Axes>"
      ]
     },
     "metadata": {},
     "output_type": "display_data"
    }
   ],
   "source": [
    "# K-Fold Cross Validation\n",
    "from sklearn import model_selection\n",
    "from sklearn.model_selection import StratifiedKFold, KFold\n",
    "KFold = StratifiedKFold(n_splits=10, random_state=49)\n",
    "for itrain, itest in KFold.split(X,y):\n",
    "    X_train,X_test = X.loc[itrain],X.loc[itest]\n",
    "    Y_train,Y_test = y.loc[itrain],y.loc[itest]\n",
    "reg_log = LogisticRegression()\n",
    "reg_log.fit(X_train, Y_train)\n",
    "y_train_hat = reg_log.predict(X_train)\n",
    "y_test_hat = reg_log.predict(X_test)\n",
    "jawaban = reg_log.score(X_test, Y_test)\n",
    "print(\"Accuracy: %.2f%%\" % (jawaban*100.0))\n",
    "\n",
    "cm = confusion_matrix(Y_test, y_test_hat)\n",
    "print('\\nConfusion Matrix : \\n'+ str(cm))\n",
    "total=cm[0,0]+cm[1,1]+cm[0,1]+cm[1,0]\n",
    "sensitivity = cm[0,0]/(cm[0,0]+cm[1,0])\n",
    "print(\"\\nSensitivity : %.2f%%\" % (sensitivity*100.0))\n",
    "specificity = cm[1,1]/(cm[0,1]+cm[1,1])\n",
    "print(\"\\nSpecificity : %.2f%%\" % (specificity*100.0))\n",
    "fscore = 2*precision*sensitivity/(precision+sensitivity)\n",
    "print(\"\\nF-Score : %.2f%%\" % (fscore*100.0))\n",
    "reg_log_auc = roc_auc_score(Y_test, y_test_hat)\n",
    "print(\"\\nAUC : %.2f%%\" % (reg_log_auc*100.0))\n",
    "\n",
    "\n",
    "fpr, tpr, thresholds = roc_curve(Y_test,y_test_hat)\n",
    "fig, ax = plt.subplots()\n",
    "ax.plot(fpr, tpr)\n",
    "ax.plot ([0,1], [0,1], transform=ax.transAxes, ls=\"--\", c=\".3\")\n",
    "plt.xlim([0.0, 1.0])\n",
    "plt.ylim([0.0, 1.0])\n",
    "plt.plot(fpr, tpr, linestyle = '-', label = \"Logistic Regression (AUC = {:.3f})\".format(reg_log_auc), color = \"r\")\n",
    "plt.plot([0,1], [0,1], 'k--', label = 'Random: 0.5')\n",
    "plt.xlabel('False positive rate')\n",
    "plt.ylabel('True positive rate')\n",
    "plt.title('ROC Curve')\n",
    "plt.legend(loc='best')\n",
    "#plt.savefig('roc_results_ratios.png')\n",
    "plt.show()"
   ]
  },
  {
   "cell_type": "markdown",
   "metadata": {},
   "source": [
    "### Extra Trees"
   ]
  },
  {
   "cell_type": "code",
   "execution_count": 29,
   "metadata": {},
   "outputs": [
    {
     "name": "stdout",
     "output_type": "stream",
     "text": [
      "Accuracy: 78.29%\n",
      "\n",
      "Confusion Matrix : \n",
      "[[120   8]\n",
      " [ 30  17]]\n",
      "\n",
      "Sensitivity : 80.00%\n",
      "\n",
      "Specificity : 68.00%\n",
      "\n",
      "F-Score : 80.00%\n",
      "\n",
      "AUC : 64.96%\n"
     ]
    },
    {
     "data": {
      "image/png": "[encoded data removed]",
      "text/plain": [
       "<Figure size 432x288 with 1 Axes>"
      ]
     },
     "metadata": {},
     "output_type": "display_data"
    }
   ],
   "source": [
    "# Holdout Repeated\n",
    "for i in range (0,10):\n",
    "    X_train, X_test, Y_train, Y_test = model_selection.train_test_split(X, y, test_size=0.30, random_state=48)\n",
    "xtratrees = ExtraTreesClassifier(random_state=52)\n",
    "xtratrees.fit(X_train, Y_train)\n",
    "y_train_hat = xtratrees.predict(X_train)\n",
    "y_test_hat = xtratrees.predict(X_test)\n",
    "result = xtratrees.score(X_test, Y_test)\n",
    "print(\"Accuracy: %.2f%%\" % (result*100.0))\n",
    "\n",
    "cm = confusion_matrix(Y_test, y_test_hat)\n",
    "print('\\nConfusion Matrix : \\n'+ str(cm))\n",
    "total=cm[0,0]+cm[1,1]+cm[0,1]+cm[1,0]\n",
    "sensitivity = cm[0,0]/(cm[0,0]+cm[1,0])\n",
    "print(\"\\nSensitivity : %.2f%%\" % (sensitivity*100.0))\n",
    "specificity = cm[1,1]/(cm[0,1]+cm[1,1])\n",
    "print(\"\\nSpecificity : %.2f%%\" % (specificity*100.0))\n",
    "fscore = 2*precision*sensitivity/(precision+sensitivity)\n",
    "print(\"\\nF-Score : %.2f%%\" % (fscore*100.0))\n",
    "xtratrees_auc = roc_auc_score(Y_test, y_test_hat)\n",
    "print(\"\\nAUC : %.2f%%\" % (xtratrees_auc*100.0))\n",
    "\n",
    "fpr, tpr, thresholds = roc_curve(Y_test,y_test_hat)\n",
    "fig, ax = plt.subplots()\n",
    "ax.plot(fpr, tpr)\n",
    "ax.plot ([0,1], [0,1], transform=ax.transAxes, ls=\"--\", c=\".3\")\n",
    "plt.xlim([0.0, 1.0])\n",
    "plt.ylim([0.0, 1.0])\n",
    "plt.plot(fpr, tpr, linestyle = '-', label = \"Extra Trees (AUC = {:.3f})\".format(xtratrees_auc), color = \"r\")\n",
    "plt.plot([0,1], [0,1], 'k--', label = 'Random: 0.5')\n",
    "plt.xlabel('False positive rate')\n",
    "plt.ylabel('True positive rate')\n",
    "plt.title('ROC Curve')\n",
    "plt.legend(loc='best')\n",
    "#plt.savefig('roc_results_ratios.png')\n",
    "plt.show()"
   ]
  },
  {
   "cell_type": "code",
   "execution_count": 30,
   "metadata": {},
   "outputs": [
    {
     "name": "stderr",
     "output_type": "stream",
     "text": [
      "E:\\Anaconda fix\\lib\\site-packages\\sklearn\\model_selection\\_split.py:297: FutureWarning: Setting a random_state has no effect since shuffle is False. This will raise an error in 0.24. You should leave random_state to its default (None), or set shuffle=True.\n",
      "  FutureWarning\n"
     ]
    },
    {
     "name": "stdout",
     "output_type": "stream",
     "text": [
      "Accuracy: 77.59%\n",
      "\n",
      "Confusion Matrix : \n",
      "[[40  1]\n",
      " [12  5]]\n",
      "\n",
      "Sensitivity : 76.92%\n",
      "\n",
      "Specificity : 83.33%\n",
      "\n",
      "F-Score : 78.43%\n",
      "\n",
      "AUC : 63.49%\n"
     ]
    },
    {
     "data": {
      "image/png": "[encoded data removed]",
      "text/plain": [
       "<Figure size 432x288 with 1 Axes>"
      ]
     },
     "metadata": {},
     "output_type": "display_data"
    }
   ],
   "source": [
    "# K-Fold Cross Validation\n",
    "from sklearn import model_selection\n",
    "from sklearn.model_selection import StratifiedKFold, KFold\n",
    "KFold = StratifiedKFold(n_splits=10, random_state=50)\n",
    "for itrain, itest in KFold.split(X,y):\n",
    "    X_train,X_test = X.loc[itrain],X.loc[itest]\n",
    "    Y_train,Y_test = y.loc[itrain],y.loc[itest]\n",
    "extra = ExtraTreesClassifier(random_state=46)\n",
    "extra.fit(X_train, Y_train)\n",
    "y_train_hat = extra.predict(X_train)\n",
    "y_test_hat = extra.predict(X_test)\n",
    "hasil = extra.score(X_test, Y_test)\n",
    "print(\"Accuracy: %.2f%%\" % (hasil*100.0))\n",
    "\n",
    "cm = confusion_matrix(Y_test, y_test_hat)\n",
    "print('\\nConfusion Matrix : \\n'+ str(cm))\n",
    "total=cm[0,0]+cm[1,1]+cm[0,1]+cm[1,0]\n",
    "sensitivity = cm[0,0]/(cm[0,0]+cm[1,0])\n",
    "print(\"\\nSensitivity : %.2f%%\" % (sensitivity*100.0))\n",
    "specificity = cm[1,1]/(cm[0,1]+cm[1,1])\n",
    "print(\"\\nSpecificity : %.2f%%\" % (specificity*100.0))\n",
    "fscore = 2*precision*sensitivity/(precision+sensitivity)\n",
    "print(\"\\nF-Score : %.2f%%\" % (fscore*100.0))\n",
    "extra_auc = roc_auc_score(Y_test, y_test_hat)\n",
    "print(\"\\nAUC : %.2f%%\" % (extra_auc*100.0))\n",
    "\n",
    "fpr, tpr, thresholds = roc_curve(Y_test,y_test_hat)\n",
    "fig, ax = plt.subplots()\n",
    "ax.plot(fpr, tpr)\n",
    "ax.plot ([0,1], [0,1], transform=ax.transAxes, ls=\"--\", c=\".3\")\n",
    "plt.xlim([0.0, 1.0])\n",
    "plt.ylim([0.0, 1.0])\n",
    "plt.plot(fpr, tpr, linestyle = '-', label = \"Logistic Regression (AUC = {:.3f})\".format(extra_auc), color = \"r\")\n",
    "plt.plot([0,1], [0,1], 'k--', label = 'Random: 0.5')\n",
    "plt.xlabel('False positive rate')\n",
    "plt.ylabel('True positive rate')\n",
    "plt.title('ROC Curve')\n",
    "plt.legend(loc='best')\n",
    "#plt.savefig('roc_results_ratios.png')\n",
    "plt.show()"
   ]
  },
  {
   "cell_type": "markdown",
   "metadata": {},
   "source": [
    "### Random Forest"
   ]
  },
  {
   "cell_type": "code",
   "execution_count": 31,
   "metadata": {},
   "outputs": [
    {
     "name": "stdout",
     "output_type": "stream",
     "text": [
      "Accuracy: 77.14%\n",
      "\n",
      "Confusion Matrix : \n",
      "[[115   8]\n",
      " [ 32  20]]\n",
      "\n",
      "Sensitivity : 78.23%\n",
      "\n",
      "Specificity : 71.43%\n",
      "\n",
      "F-Score : 79.11%\n",
      "\n",
      "AUC : 65.98%\n"
     ]
    },
    {
     "data": {
      "image/png": "[encoded data removed]",
      "text/plain": [
       "<Figure size 432x288 with 1 Axes>"
      ]
     },
     "metadata": {},
     "output_type": "display_data"
    }
   ],
   "source": [
    "#Holdout Repeated\n",
    "for i in range (0,10):\n",
    "    X_train, X_test, Y_train, Y_test = model_selection.train_test_split(X, y, test_size=0.30, random_state=50)\n",
    "random = RandomForestClassifier(n_estimators=100, random_state=53)\n",
    "random.fit(X_train, Y_train)\n",
    "y_train_hat = random.predict(X_train)\n",
    "y_test_hat = random.predict(X_test)\n",
    "result = random.score(X_test, Y_test)\n",
    "print(\"Accuracy: %.2f%%\" % (result*100.0))\n",
    "\n",
    "cm = confusion_matrix(Y_test, y_test_hat)\n",
    "print('\\nConfusion Matrix : \\n'+ str(cm))\n",
    "total=cm[0,0]+cm[1,1]+cm[0,1]+cm[1,0]\n",
    "sensitivity = cm[0,0]/(cm[0,0]+cm[1,0])\n",
    "print(\"\\nSensitivity : %.2f%%\" % (sensitivity*100.0))\n",
    "specificity = cm[1,1]/(cm[0,1]+cm[1,1])\n",
    "print(\"\\nSpecificity : %.2f%%\" % (specificity*100.0))\n",
    "fscore = 2*precision*sensitivity/(precision+sensitivity)\n",
    "print(\"\\nF-Score : %.2f%%\" % (fscore*100.0))\n",
    "random_auc = roc_auc_score(Y_test, y_test_hat)\n",
    "print(\"\\nAUC : %.2f%%\" % (random_auc*100.0))\n",
    "\n",
    "fpr, tpr, thresholds = roc_curve(Y_test,y_test_hat)\n",
    "fig, ax = plt.subplots()\n",
    "ax.plot(fpr, tpr)\n",
    "ax.plot ([0,1], [0,1], transform=ax.transAxes, ls=\"--\", c=\".3\")\n",
    "plt.xlim([0.0, 1.0])\n",
    "plt.ylim([0.0, 1.0])\n",
    "plt.plot(fpr, tpr, linestyle = '-', label = \"Random Forest (AUC = {:.3f})\".format(random_auc), color = \"r\")\n",
    "plt.plot([0,1], [0,1], 'k--', label = 'Random: 0.5')\n",
    "plt.xlabel('False positive rate')\n",
    "plt.ylabel('True positive rate')\n",
    "plt.title('ROC Curve')\n",
    "plt.legend(loc='best')\n",
    "#plt.savefig('roc_results_ratios.png')\n",
    "plt.show()"
   ]
  },
  {
   "cell_type": "code",
   "execution_count": 32,
   "metadata": {},
   "outputs": [
    {
     "name": "stderr",
     "output_type": "stream",
     "text": [
      "E:\\Anaconda fix\\lib\\site-packages\\sklearn\\model_selection\\_split.py:297: FutureWarning: Setting a random_state has no effect since shuffle is False. This will raise an error in 0.24. You should leave random_state to its default (None), or set shuffle=True.\n",
      "  FutureWarning\n"
     ]
    },
    {
     "name": "stdout",
     "output_type": "stream",
     "text": [
      "Accuracy: 81.03%\n",
      "\n",
      "Confusion Matrix : \n",
      "[[40  1]\n",
      " [10  7]]\n",
      "\n",
      "Sensitivity : 80.00%\n",
      "\n",
      "Specificity : 87.50%\n",
      "\n",
      "F-Score : 80.00%\n",
      "\n",
      "AUC : 69.37%\n"
     ]
    },
    {
     "data": {
      "image/png": "[encoded data removed]",
      "text/plain": [
       "<Figure size 432x288 with 1 Axes>"
      ]
     },
     "metadata": {},
     "output_type": "display_data"
    }
   ],
   "source": [
    "# K-Fold Cross Validation\n",
    "from sklearn import model_selection\n",
    "from sklearn.model_selection import StratifiedKFold, KFold\n",
    "KFold = StratifiedKFold(n_splits=10, random_state=50)\n",
    "for itrain, itest in KFold.split(X,y):\n",
    "    X_train,X_test = X.loc[itrain],X.loc[itest]\n",
    "    Y_train,Y_test = y.loc[itrain],y.loc[itest]\n",
    "randfor = RandomForestClassifier(random_state=54)\n",
    "randfor.fit(X_train, Y_train)\n",
    "y_train_hat = randfor.predict(X_train)\n",
    "y_test_hat = randfor.predict(X_test)\n",
    "result = randfor.score(X_test, Y_test)\n",
    "print(\"Accuracy: %.2f%%\" % (result*100.0))\n",
    "\n",
    "cm = confusion_matrix(Y_test, y_test_hat)\n",
    "print('\\nConfusion Matrix : \\n'+ str(cm))\n",
    "total=cm[0,0]+cm[1,1]+cm[0,1]+cm[1,0]\n",
    "sensitivity = cm[0,0]/(cm[0,0]+cm[1,0])\n",
    "print(\"\\nSensitivity : %.2f%%\" % (sensitivity*100.0))\n",
    "specificity = cm[1,1]/(cm[0,1]+cm[1,1])\n",
    "print(\"\\nSpecificity : %.2f%%\" % (specificity*100.0))\n",
    "fscore = 2*precision*sensitivity/(precision+sensitivity)\n",
    "print(\"\\nF-Score : %.2f%%\" % (fscore*100.0))\n",
    "randfor_auc = roc_auc_score(Y_test, y_test_hat)\n",
    "print(\"\\nAUC : %.2f%%\" % (randfor_auc*100.0))\n",
    "\n",
    "fpr, tpr, thresholds = roc_curve(Y_test,y_test_hat)\n",
    "fig, ax = plt.subplots()\n",
    "ax.plot(fpr, tpr)\n",
    "ax.plot ([0,1], [0,1], transform=ax.transAxes, ls=\"--\", c=\".3\")\n",
    "plt.xlim([0.0, 1.0])\n",
    "plt.ylim([0.0, 1.0])\n",
    "plt.plot(fpr, tpr, linestyle = '-', label = \"Random Forest (AUC = {:.3f})\".format(randfor_auc), color = \"r\")\n",
    "plt.plot([0,1], [0,1], 'k--', label = 'Random: 0.5')\n",
    "plt.xlabel('False positive rate')\n",
    "plt.ylabel('True positive rate')\n",
    "plt.title('ROC Curve')\n",
    "plt.legend(loc='best')\n",
    "#plt.savefig('roc_results_ratios.png')\n",
    "plt.show()"
   ]
  }
 ],
 "metadata": {
  "kernelspec": {
   "display_name": "Python 3",
   "language": "python",
   "name": "python3"
  },
  "language_info": {
   "codemirror_mode": {
    "name": "ipython",
    "version": 3
   },
   "file_extension": ".py",
   "mimetype": "text/x-python",
   "name": "python",
   "nbconvert_exporter": "python",
   "pygments_lexer": "ipython3",
   "version": "3.7.4"
  }
 },
 "nbformat": 4,
 "nbformat_minor": 2
}
